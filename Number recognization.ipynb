{
 "cells": [
  {
   "cell_type": "code",
   "execution_count": 20,
   "id": "7ccc5f4c",
   "metadata": {},
   "outputs": [],
   "source": [
    "\n",
    "import numpy as np\n",
    "import pandas as pd\n",
    "from keras.models import load_model\n",
    "from tkinter import *\n",
    "import tkinter as tk\n",
    "import win32gui\n",
    "from PIL import ImageGrab, Image\n"
   ]
  },
  {
   "cell_type": "code",
   "execution_count": 8,
   "id": "c8214565",
   "metadata": {},
   "outputs": [],
   "source": [
    "# Load the pre-trained handwritten digit recognition model\n",
    "handwritten_model = load_model('handwritten.h5')\n"
   ]
  },
  {
   "cell_type": "code",
   "execution_count": 9,
   "id": "d594193a",
   "metadata": {},
   "outputs": [],
   "source": [
    "# Function to predict a handwritten digit from an image\n",
    "def predict_handwritten_digit(img):\n",
    "    # Resize the image to 28x28 pixels\n",
    "    img = img.resize((28, 28))\n",
    "    # Convert the image to grayscale\n",
    "    img = img.convert('L')\n",
    "    img = np.array(img)\n",
    "    # Reshape and normalize the image to match the model input\n",
    "    img = img.reshape(1, 28, 28, 1)\n",
    "    img = img / 255.0\n",
    "    # Predict the class\n",
    "    res = handwritten_model.predict([img])[0]\n",
    "    return np.argmax(res), max(res)"
   ]
  },
  {
   "cell_type": "code",
   "execution_count": 30,
   "id": "d0504645",
   "metadata": {},
   "outputs": [],
   "source": [
    "# Create the main application window\n",
    "class HandwrittenDigitRecognizerApp(tk.Tk):\n",
    "    def __init__(self):\n",
    "        tk.Tk.__init__(self)\n",
    "\n",
    "        self.x = self.y = 0\n",
    "\n",
    "        # Create canvas, label, and buttons\n",
    "        self.canvas = tk.Canvas(self, width=500, height=500, bg=\"White\", cursor=\"cross\")\n",
    "        self.label = tk.Label(self, text=\"Write any number...\", font=(\"Arial\", 48))\n",
    "        self.classify_btn = tk.Button(self, text=\"Recognise\", command=self.classify_handwriting)\n",
    "        self.button_clear = tk.Button(self, text=\"Clear\", command=self.clear_all)\n",
    "\n",
    "        # Grid layout for widgets\n",
    "        self.canvas.grid(row=0, column=0, pady=2, sticky=W)\n",
    "        self.label.grid(row=0, column=1, pady=2, padx=2)\n",
    "        self.classify_btn.grid(row=1, column=1, pady=2, padx=2)\n",
    "        self.button_clear.grid(row=1, column=0, pady=2)\n",
    "\n",
    "        # Bind mouse events to the canvas\n",
    "        self.canvas.bind(\"<B1-Motion>\", self.draw_lines)\n",
    "        \n",
    "         # Clear the canvas\n",
    "    def clear_all(self):\n",
    "        self.canvas.delete(\"all\")\n",
    "        \n",
    "        # Recognize the handwritten digit on the canvas\n",
    "    def classify_handwriting(self):\n",
    "        HWND = self.canvas.winfo_id()  # Get the handle of the canvas\n",
    "        rect = win32gui.GetWindowRect(HWND)  # Get the coordinates of the canvas\n",
    "        im = ImageGrab.grab(rect)\n",
    "\n",
    "        digit, acc = predict_handwritten_digit(im)\n",
    "        self.label.configure(text=str(digit) + ', ' + str(int(acc * 100)) + '%')\n",
    "        \n",
    "        \n",
    "        # Draw lines on the canvas\n",
    "    def draw_lines(self, event):\n",
    "        self.x = event.x\n",
    "        self.y = event.y\n",
    "        r = 8\n",
    "        self.canvas.create_oval(self.x - r, self.y - r, self.x + r, self.y + r, fill='black')\n",
    "\n",
    "\n"
   ]
  },
  {
   "cell_type": "code",
   "execution_count": 41,
   "id": "9a792ae6",
   "metadata": {},
   "outputs": [
    {
     "name": "stdout",
     "output_type": "stream",
     "text": [
      "1/1 [==============================] - 0s 40ms/step\n",
      "1/1 [==============================] - 0s 20ms/step\n"
     ]
    }
   ],
   "source": [
    "# Create an instance of the application and start the main event loop\n",
    "app = HandwrittenDigitRecognizerApp()\n",
    "app.mainloop()\n"
   ]
  },
  {
   "cell_type": "code",
   "execution_count": null,
   "id": "1eafdfb1",
   "metadata": {},
   "outputs": [],
   "source": []
  },
  {
   "cell_type": "code",
   "execution_count": null,
   "id": "0b68ce6c",
   "metadata": {},
   "outputs": [],
   "source": []
  }
 ],
 "metadata": {
  "kernelspec": {
   "display_name": "Python 3 (ipykernel)",
   "language": "python",
   "name": "python3"
  },
  "language_info": {
   "codemirror_mode": {
    "name": "ipython",
    "version": 3
   },
   "file_extension": ".py",
   "mimetype": "text/x-python",
   "name": "python",
   "nbconvert_exporter": "python",
   "pygments_lexer": "ipython3",
   "version": "3.9.18"
  }
 },
 "nbformat": 4,
 "nbformat_minor": 5
}
